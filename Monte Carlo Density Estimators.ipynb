{
 "cells": [
  {
   "cell_type": "code",
   "execution_count": 1,
   "metadata": {},
   "outputs": [],
   "source": [
    "import numpy as np\n",
    "import matplotlib.pyplot as plt\n",
    "import warnings\n",
    "import matplotlib.cbook\n",
    "warnings.filterwarnings(\"ignore\",category=matplotlib.cbook.mplDeprecation)"
   ]
  },
  {
   "cell_type": "code",
   "execution_count": 2,
   "metadata": {},
   "outputs": [
    {
     "ename": "SyntaxError",
     "evalue": "positional argument follows keyword argument (<ipython-input-2-b5c50582ba21>, line 1)",
     "output_type": "error",
     "traceback": [
      "\u001b[0;36m  File \u001b[0;32m\"<ipython-input-2-b5c50582ba21>\"\u001b[0;36m, line \u001b[0;32m1\u001b[0m\n\u001b[0;31m    class RandomWalk(n_steps=100, P_x):\u001b[0m\n\u001b[0m                                 ^\u001b[0m\n\u001b[0;31mSyntaxError\u001b[0m\u001b[0;31m:\u001b[0m positional argument follows keyword argument\n"
     ]
    }
   ],
   "source": [
    "class RandomWalk(n_steps=100, P_x):\n",
    "    def __init__(self):\n",
    "        self.n_steps = n_steps\n",
    "    "
   ]
  },
  {
   "cell_type": "code",
   "execution_count": null,
   "metadata": {},
   "outputs": [],
   "source": [
    "class BrownianMotion():\n",
    "    def __init__(self,mu=0):\n",
    "        self.mu = float(mu)\n",
    "        \n",
    "    def generate_path(self, n_steps=100):\n",
    "        w = np.ones(n_steps)*self.mu\n",
    "        \n",
    "        for t in range(1,n_steps):\n",
    "            y_t = np.random.normal()\n",
    "            W[t] = W[t-1]+(y_t/np.sqrt(n_steps))\n",
    "        \n",
    "        return W\n",
    "    "
   ]
  },
  {
   "cell_type": "code",
   "execution_count": 19,
   "metadata": {},
   "outputs": [],
   "source": [
    "class SimulateRandomField():\n",
    "    \n",
    "    def __init__(self, gamma, a, C):\n",
    "        self.gamma = gamma\n",
    "        self.a = a\n",
    "        self.C = C\n",
    "        \n",
    "        self.S = None\n",
    "        self.X = None\n",
    "        \n",
    "    def sampleDowncrossing(self, x):\n",
    "        S = [x]\n",
    "        A = [-x]\n",
    "        while S[-1] >= 0:\n",
    "            A.append(A[-1] + np.random.exponential(1))\n",
    "            n = len(S)-1\n",
    "            S.append(self.gamma * n - A[-1])\n",
    "        return S\n",
    "    \n",
    "    def computeCramersRoot(self):\n",
    "        pass\n",
    "    \n",
    "    def sampleUpcrossing(self, x):\n",
    "        pass\n",
    "    \n",
    "    def sampleWithoutRecordS(self, x, l):\n",
    "        pass\n",
    "    \n",
    "    def algorithmS(self):\n",
    "        pass\n",
    "        self.S = [0]\n",
    "        upcrossingSegment = []\n",
    "        while upcrossingSegment != 'DEGENERATE':\n",
    "            downcrossingSegment = self.sampleDowncrossing(self.S[-1])\n",
    "            self.S = self.S + downcrossingSegment\n",
    "            upcrossingSegment = self.S[-1]\n",
    "            if upcrossingSegment != 'DEGENERATE':\n",
    "                self.S = self.S + upcrossingSegment\n",
    "        if l > 0:\n",
    "            self.S = self.S + self.sampleWithoutRecordS(self.S[-1], l)\n",
    "    \n",
    "    def conditionedSampleX(self, a, n):\n",
    "        pass\n",
    "    \n",
    "    def sampleSingleRecord(self, a, n_0, n_1):\n",
    "        pass\n",
    "    \n",
    "    def sampleWithoutRecordX(self, n_1, l):\n",
    "        pass\n",
    "        self.X = self.sampleXUnderP(l)\n",
    "        modifiedX = [self.X[k] - a * log(n_1 + k) for k in range(len(self.X))]\n",
    "        while(max(modifiedX) < 0):\n",
    "            self.X = self.sampleXUnderP(l)\n",
    "            modifiedX = [self.X[k] - a * log(n_1 + k) for k in range(len(self.X))]\n",
    "        return X\n",
    "    \n",
    "    def algorithmX(self):\n",
    "        pass\n",
    "        self.X = self.sampleUnderP()\n",
    "        eta = n_0\n",
    "        segment = self.sampleSinglerecord(a, n_0, eta)\n",
    "        while segment != 'DEGENERATE':\n",
    "            if segment != 'DEGENERATE':\n",
    "                self.X = self.X + segment\n",
    "                eta = len(X)\n",
    "        if l > 0:\n",
    "            self.X = self.X + self.sampleWithoutRecordX(eta, l)\n",
    "    \n",
    "    def algorithmM(self):\n",
    "        pass"
   ]
  },
  {
   "cell_type": "code",
   "execution_count": 20,
   "metadata": {},
   "outputs": [
    {
     "ename": "SyntaxError",
     "evalue": "invalid syntax (<ipython-input-20-f73cc47819d5>, line 5)",
     "output_type": "error",
     "traceback": [
      "\u001b[0;36m  File \u001b[0;32m\"<ipython-input-20-f73cc47819d5>\"\u001b[0;36m, line \u001b[0;32m5\u001b[0m\n\u001b[0;31m    def\u001b[0m\n\u001b[0m        ^\u001b[0m\n\u001b[0;31mSyntaxError\u001b[0m\u001b[0;31m:\u001b[0m invalid syntax\n"
     ]
    }
   ],
   "source": [
    "class MonteCarloEstimator():\n",
    "    def __init__(self):\n",
    "        pass\n",
    "    \n",
    "    def "
   ]
  },
  {
   "cell_type": "code",
   "execution_count": 23,
   "metadata": {},
   "outputs": [
    {
     "data": {
      "text/plain": [
       "[10,\n",
       " 9.71183005394751,\n",
       " 9.303511928730396,\n",
       " 7.266771397368901,\n",
       " 2.755458743323743,\n",
       " 3.189313898519151,\n",
       " 2.3069081125351456,\n",
       " 2.4970025515662906,\n",
       " 1.4164139565607048,\n",
       " 1.8576135355551808,\n",
       " -4.221543738625474]"
      ]
     },
     "execution_count": 23,
     "metadata": {},
     "output_type": "execute_result"
    }
   ],
   "source": [
    "# Test cell\n",
    "\n",
    "RF = SimulateRandomField(1/2, 0.5, 2)\n",
    "RF.sampleDowncrossing(10)"
   ]
  },
  {
   "cell_type": "code",
   "execution_count": null,
   "metadata": {},
   "outputs": [],
   "source": []
  }
 ],
 "metadata": {
  "kernelspec": {
   "display_name": "Python 3",
   "language": "python",
   "name": "python3"
  },
  "language_info": {
   "codemirror_mode": {
    "name": "ipython",
    "version": 3
   },
   "file_extension": ".py",
   "mimetype": "text/x-python",
   "name": "python",
   "nbconvert_exporter": "python",
   "pygments_lexer": "ipython3",
   "version": "3.7.3"
  }
 },
 "nbformat": 4,
 "nbformat_minor": 2
}
